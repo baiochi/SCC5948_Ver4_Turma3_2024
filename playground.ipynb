{
 "cells": [
  {
   "cell_type": "code",
   "source": [
    "import os\n",
    "import dotenv\n",
    "import requests\n",
    "import base64\n",
    "import pandas as pd\n",
    "from tqdm import tqdm\n",
    "\n",
    "dotenv.load_dotenv()\n",
    "\n",
    "CLIENT_ID = os.getenv('CLIENT_ID')\n",
    "CLIENT_SECRET = os.getenv('CLIENT_SECRET')\n",
    "\n",
    "artists_df = pd.read_csv('data/top_categories_artists.csv')\n",
    "\n",
    "\n",
    "def _get_token(client_id, client_secret):\n",
    "    url = 'https://accounts.spotify.com/api/token'\n",
    "    auth_string = client_id + ':' + client_secret\n",
    "    auth_bytes = auth_string.encode('utf-8')\n",
    "    auth_base64 = base64.b64encode(auth_bytes)\n",
    "\n",
    "    headers = {\n",
    "        'Authorization': 'Basic ' + auth_base64.decode('utf-8'),\n",
    "    }\n",
    "    data = {\n",
    "        'grant_type': 'client_credentials',\n",
    "    }\n",
    "    response = requests.post(url, headers=headers, data=data)\n",
    "    return response.json()['access_token']\n",
    "\n",
    "\n",
    "def get_artist_top_tracks(token, artist_id, market=None):\n",
    "    url = f'https://api.spotify.com/v1/artists/{artist_id}/top-tracks'\n",
    "    headers = {\n",
    "        'Authorization': 'Bearer ' + token,\n",
    "    }\n",
    "    params = {\n",
    "        'market': market,\n",
    "    }\n",
    "    response = requests.get(url, headers=headers, params=params, timeout=5)\n",
    "    if response.status_code != 200:\n",
    "        print('Error')\n",
    "        raise ValueError(response)\n",
    "    return response.json()\n",
    "\n",
    "\n",
    "def get_track_features(token, track_id):\n",
    "    url = f'https://api.spotify.com/v1/audio-features/{track_id}'\n",
    "    headers = {\n",
    "        'Authorization': 'Bearer ' + token,\n",
    "    }\n",
    "    response = requests.get(url, headers=headers)\n",
    "    return response.json()\n",
    "\n",
    "\n",
    "def get_artist_info(token, artist_id: list):\n",
    "    url = f'https://api.spotify.com/v1/artists/'\n",
    "    headers = {\n",
    "        'Authorization': 'Bearer ' + token,\n",
    "    }\n",
    "    params = {\n",
    "        'ids': ','.join(artist_id),\n",
    "    }\n",
    "    if len(artist_id) > 50:\n",
    "        raise ValueError('Too many artist ids')\n",
    "    response = requests.get(url, headers=headers, params=params)\n",
    "    return response.json()\n",
    "\n",
    "\n",
    "def fetch_tracks(artist_id):\n",
    "    tracks = get_artist_top_tracks(TOKEN, artist_id)\n",
    "    keys_to_keep = ['name', 'artists', 'explicit', 'popularity']\n",
    "    for track in tracks['tracks']:\n",
    "        track['artists'] = track['artists'][0]['name']\n",
    "    tracks = {track['id']: {k: track[k] for k in keys_to_keep} for track in tracks['tracks']}\n",
    "    return tracks\n",
    "\n",
    "\n",
    "TOKEN = _get_token(CLIENT_ID, CLIENT_SECRET)"
   ],
   "metadata": {
    "collapsed": false,
    "ExecuteTime": {
     "end_time": "2024-04-24T19:32:27.474583Z",
     "start_time": "2024-04-24T19:32:27.165581Z"
    }
   },
   "id": "ac3d4d0d70f95707",
   "outputs": [],
   "execution_count": 14
  },
  {
   "metadata": {
    "jupyter": {
     "is_executing": true
    },
    "ExecuteTime": {
     "start_time": "2024-04-24T19:15:47.282154Z"
    }
   },
   "cell_type": "code",
   "source": [
    "import concurrent.futures\n",
    "\n",
    "all_tracks = {}\n",
    "with concurrent.futures.ThreadPoolExecutor() as executor:\n",
    "    future_to_artist = {executor.submit(fetch_tracks, artist_id): artist_id\n",
    "                        for artist_id in artists_df['id']}\n",
    "    for future in tqdm(concurrent.futures.as_completed(future_to_artist),\n",
    "                       total=len(future_to_artist)):\n",
    "        artist_id = future_to_artist[future]\n",
    "        try:\n",
    "            tracks = future.result()\n",
    "        except Exception as exc:\n",
    "            raise exc\n",
    "        else:\n",
    "            all_tracks.update(tracks)"
   ],
   "id": "381dfb2db89dd17",
   "outputs": [
    {
     "name": "stderr",
     "output_type": "stream",
     "text": [
      "  0%|          | 0/36408 [00:00<?, ?it/s]\n"
     ]
    }
   ],
   "execution_count": null
  },
  {
   "metadata": {},
   "cell_type": "code",
   "outputs": [],
   "execution_count": 221,
   "source": [
    "all_tracks_features = {}\n",
    "for id, track_info in tracks.items():\n",
    "    track_features = get_track_features(TOKEN, id)\n",
    "    track_info.update(track_features)\n",
    "    drop_keys = ['type', 'id', 'uri', 'track_href', 'analysis_url']\n",
    "    track_info = {k: v for k, v in track_info.items() if k not in drop_keys}\n",
    "    all_tracks_features[id] = track_info"
   ],
   "id": "1afb28f8004ff722"
  },
  {
   "cell_type": "code",
   "outputs": [
    {
     "data": {
      "text/plain": "                                                                     name  \\\n4f0aDk7HX37SfzerfznYlr                              Lapada Dela - Ao Vivo   \n3XqhtjiycwDxCpGqUFTtlW                     Matadinha De Saudade - Ao Vivo   \n5r9CZJMoMmxio2AnJdxuDS  Pot-Pourri: Melhor Eu Ir / Ligando Os Fatos / ...   \n1N19UVD4GRBFT6UrDaX6rk  Bebe e Vem Me Procurar / Quem Ama Sente Saudad...   \n1jweGFaVZxEVrOHKsLpPY4                                             Adorei   \n1J8rfA9BdhlpzNSKKePf3U                                Destilado - Ao Vivo   \n5Vt0SUtyilv1kwKd3Ob0GH                                Ficadinha - Ao Vivo   \n6O5W6UpfkQnDfWKM32JcCW                                            Recaída   \n1TFqH3zKOiTZoVe0OQuJte  Até Que Durou / Tu Mandas No Meu Coração / Ado...   \n6FiRcbFkKaZ4ELwe3ILbX3                               Fica Light - Ao Vivo   \n\n                                   artists explicit popularity danceability  \\\n4f0aDk7HX37SfzerfznYlr  Grupo Menos É Mais    False         80        0.691   \n3XqhtjiycwDxCpGqUFTtlW  Grupo Menos É Mais    False         65        0.752   \n5r9CZJMoMmxio2AnJdxuDS  Grupo Menos É Mais    False         71        0.437   \n1N19UVD4GRBFT6UrDaX6rk     Turma do Pagode    False         65         0.68   \n1jweGFaVZxEVrOHKsLpPY4  Grupo Menos É Mais    False         67        0.746   \n1J8rfA9BdhlpzNSKKePf3U            LUDMILLA    False         67        0.677   \n5Vt0SUtyilv1kwKd3Ob0GH  Grupo Menos É Mais    False         52        0.641   \n6O5W6UpfkQnDfWKM32JcCW  Grupo Menos É Mais    False         66        0.781   \n1TFqH3zKOiTZoVe0OQuJte  Grupo Menos É Mais    False         65        0.405   \n6FiRcbFkKaZ4ELwe3ILbX3            Dilsinho    False         64         0.64   \n\n                       energy key loudness mode speechiness acousticness  \\\n4f0aDk7HX37SfzerfznYlr  0.752   4   -6.796    0       0.157        0.708   \n3XqhtjiycwDxCpGqUFTtlW  0.846   1   -6.072    1      0.0614        0.435   \n5r9CZJMoMmxio2AnJdxuDS  0.798   2   -3.928    1      0.0792        0.603   \n1N19UVD4GRBFT6UrDaX6rk  0.712   9   -6.781    1      0.0609        0.634   \n1jweGFaVZxEVrOHKsLpPY4  0.668   7   -6.496    1      0.0398        0.642   \n1J8rfA9BdhlpzNSKKePf3U  0.761   2   -8.677    1       0.142        0.789   \n5Vt0SUtyilv1kwKd3Ob0GH  0.721  11   -7.629    0      0.0804        0.232   \n6O5W6UpfkQnDfWKM32JcCW  0.751   7   -5.796    1      0.0575         0.36   \n1TFqH3zKOiTZoVe0OQuJte  0.829   2   -6.057    1      0.0582         0.62   \n6FiRcbFkKaZ4ELwe3ILbX3  0.805   5   -6.344    0      0.0938        0.623   \n\n                       instrumentalness liveness valence    tempo duration_ms  \\\n4f0aDk7HX37SfzerfznYlr         0.000006    0.912   0.684  167.073      159323   \n3XqhtjiycwDxCpGqUFTtlW                0    0.576   0.926  156.617      176248   \n5r9CZJMoMmxio2AnJdxuDS                0    0.552   0.706  157.828      521088   \n1N19UVD4GRBFT6UrDaX6rk                0    0.933   0.784     88.0      216818   \n1jweGFaVZxEVrOHKsLpPY4                0    0.109   0.798  151.853      179452   \n1J8rfA9BdhlpzNSKKePf3U                0    0.136   0.698  160.086      176297   \n5Vt0SUtyilv1kwKd3Ob0GH                0     0.18   0.896  166.932      154180   \n6O5W6UpfkQnDfWKM32JcCW                0     0.11   0.788   88.966      181344   \n1TFqH3zKOiTZoVe0OQuJte         0.000046    0.327   0.767  181.222      453019   \n6FiRcbFkKaZ4ELwe3ILbX3                0     0.94   0.917   90.914      161628   \n\n                       time_signature  \n4f0aDk7HX37SfzerfznYlr              4  \n3XqhtjiycwDxCpGqUFTtlW              4  \n5r9CZJMoMmxio2AnJdxuDS              4  \n1N19UVD4GRBFT6UrDaX6rk              4  \n1jweGFaVZxEVrOHKsLpPY4              4  \n1J8rfA9BdhlpzNSKKePf3U              4  \n5Vt0SUtyilv1kwKd3Ob0GH              4  \n6O5W6UpfkQnDfWKM32JcCW              4  \n1TFqH3zKOiTZoVe0OQuJte              4  \n6FiRcbFkKaZ4ELwe3ILbX3              4  ",
      "text/html": "<div>\n<style scoped>\n    .dataframe tbody tr th:only-of-type {\n        vertical-align: middle;\n    }\n\n    .dataframe tbody tr th {\n        vertical-align: top;\n    }\n\n    .dataframe thead th {\n        text-align: right;\n    }\n</style>\n<table border=\"1\" class=\"dataframe\">\n  <thead>\n    <tr style=\"text-align: right;\">\n      <th></th>\n      <th>name</th>\n      <th>artists</th>\n      <th>explicit</th>\n      <th>popularity</th>\n      <th>danceability</th>\n      <th>energy</th>\n      <th>key</th>\n      <th>loudness</th>\n      <th>mode</th>\n      <th>speechiness</th>\n      <th>acousticness</th>\n      <th>instrumentalness</th>\n      <th>liveness</th>\n      <th>valence</th>\n      <th>tempo</th>\n      <th>duration_ms</th>\n      <th>time_signature</th>\n    </tr>\n  </thead>\n  <tbody>\n    <tr>\n      <th>4f0aDk7HX37SfzerfznYlr</th>\n      <td>Lapada Dela - Ao Vivo</td>\n      <td>Grupo Menos É Mais</td>\n      <td>False</td>\n      <td>80</td>\n      <td>0.691</td>\n      <td>0.752</td>\n      <td>4</td>\n      <td>-6.796</td>\n      <td>0</td>\n      <td>0.157</td>\n      <td>0.708</td>\n      <td>0.000006</td>\n      <td>0.912</td>\n      <td>0.684</td>\n      <td>167.073</td>\n      <td>159323</td>\n      <td>4</td>\n    </tr>\n    <tr>\n      <th>3XqhtjiycwDxCpGqUFTtlW</th>\n      <td>Matadinha De Saudade - Ao Vivo</td>\n      <td>Grupo Menos É Mais</td>\n      <td>False</td>\n      <td>65</td>\n      <td>0.752</td>\n      <td>0.846</td>\n      <td>1</td>\n      <td>-6.072</td>\n      <td>1</td>\n      <td>0.0614</td>\n      <td>0.435</td>\n      <td>0</td>\n      <td>0.576</td>\n      <td>0.926</td>\n      <td>156.617</td>\n      <td>176248</td>\n      <td>4</td>\n    </tr>\n    <tr>\n      <th>5r9CZJMoMmxio2AnJdxuDS</th>\n      <td>Pot-Pourri: Melhor Eu Ir / Ligando Os Fatos / ...</td>\n      <td>Grupo Menos É Mais</td>\n      <td>False</td>\n      <td>71</td>\n      <td>0.437</td>\n      <td>0.798</td>\n      <td>2</td>\n      <td>-3.928</td>\n      <td>1</td>\n      <td>0.0792</td>\n      <td>0.603</td>\n      <td>0</td>\n      <td>0.552</td>\n      <td>0.706</td>\n      <td>157.828</td>\n      <td>521088</td>\n      <td>4</td>\n    </tr>\n    <tr>\n      <th>1N19UVD4GRBFT6UrDaX6rk</th>\n      <td>Bebe e Vem Me Procurar / Quem Ama Sente Saudad...</td>\n      <td>Turma do Pagode</td>\n      <td>False</td>\n      <td>65</td>\n      <td>0.68</td>\n      <td>0.712</td>\n      <td>9</td>\n      <td>-6.781</td>\n      <td>1</td>\n      <td>0.0609</td>\n      <td>0.634</td>\n      <td>0</td>\n      <td>0.933</td>\n      <td>0.784</td>\n      <td>88.0</td>\n      <td>216818</td>\n      <td>4</td>\n    </tr>\n    <tr>\n      <th>1jweGFaVZxEVrOHKsLpPY4</th>\n      <td>Adorei</td>\n      <td>Grupo Menos É Mais</td>\n      <td>False</td>\n      <td>67</td>\n      <td>0.746</td>\n      <td>0.668</td>\n      <td>7</td>\n      <td>-6.496</td>\n      <td>1</td>\n      <td>0.0398</td>\n      <td>0.642</td>\n      <td>0</td>\n      <td>0.109</td>\n      <td>0.798</td>\n      <td>151.853</td>\n      <td>179452</td>\n      <td>4</td>\n    </tr>\n    <tr>\n      <th>1J8rfA9BdhlpzNSKKePf3U</th>\n      <td>Destilado - Ao Vivo</td>\n      <td>LUDMILLA</td>\n      <td>False</td>\n      <td>67</td>\n      <td>0.677</td>\n      <td>0.761</td>\n      <td>2</td>\n      <td>-8.677</td>\n      <td>1</td>\n      <td>0.142</td>\n      <td>0.789</td>\n      <td>0</td>\n      <td>0.136</td>\n      <td>0.698</td>\n      <td>160.086</td>\n      <td>176297</td>\n      <td>4</td>\n    </tr>\n    <tr>\n      <th>5Vt0SUtyilv1kwKd3Ob0GH</th>\n      <td>Ficadinha - Ao Vivo</td>\n      <td>Grupo Menos É Mais</td>\n      <td>False</td>\n      <td>52</td>\n      <td>0.641</td>\n      <td>0.721</td>\n      <td>11</td>\n      <td>-7.629</td>\n      <td>0</td>\n      <td>0.0804</td>\n      <td>0.232</td>\n      <td>0</td>\n      <td>0.18</td>\n      <td>0.896</td>\n      <td>166.932</td>\n      <td>154180</td>\n      <td>4</td>\n    </tr>\n    <tr>\n      <th>6O5W6UpfkQnDfWKM32JcCW</th>\n      <td>Recaída</td>\n      <td>Grupo Menos É Mais</td>\n      <td>False</td>\n      <td>66</td>\n      <td>0.781</td>\n      <td>0.751</td>\n      <td>7</td>\n      <td>-5.796</td>\n      <td>1</td>\n      <td>0.0575</td>\n      <td>0.36</td>\n      <td>0</td>\n      <td>0.11</td>\n      <td>0.788</td>\n      <td>88.966</td>\n      <td>181344</td>\n      <td>4</td>\n    </tr>\n    <tr>\n      <th>1TFqH3zKOiTZoVe0OQuJte</th>\n      <td>Até Que Durou / Tu Mandas No Meu Coração / Ado...</td>\n      <td>Grupo Menos É Mais</td>\n      <td>False</td>\n      <td>65</td>\n      <td>0.405</td>\n      <td>0.829</td>\n      <td>2</td>\n      <td>-6.057</td>\n      <td>1</td>\n      <td>0.0582</td>\n      <td>0.62</td>\n      <td>0.000046</td>\n      <td>0.327</td>\n      <td>0.767</td>\n      <td>181.222</td>\n      <td>453019</td>\n      <td>4</td>\n    </tr>\n    <tr>\n      <th>6FiRcbFkKaZ4ELwe3ILbX3</th>\n      <td>Fica Light - Ao Vivo</td>\n      <td>Dilsinho</td>\n      <td>False</td>\n      <td>64</td>\n      <td>0.64</td>\n      <td>0.805</td>\n      <td>5</td>\n      <td>-6.344</td>\n      <td>0</td>\n      <td>0.0938</td>\n      <td>0.623</td>\n      <td>0</td>\n      <td>0.94</td>\n      <td>0.917</td>\n      <td>90.914</td>\n      <td>161628</td>\n      <td>4</td>\n    </tr>\n  </tbody>\n</table>\n</div>"
     },
     "execution_count": 224,
     "metadata": {},
     "output_type": "execute_result"
    }
   ],
   "source": [
    "pd.DataFrame(all_tracks_features).T"
   ],
   "metadata": {
    "collapsed": false,
    "ExecuteTime": {
     "end_time": "2024-04-06T01:56:47.611932Z",
     "start_time": "2024-04-06T01:56:47.576932Z"
    }
   },
   "id": "bbea6c5ff8f7370c",
   "execution_count": 224
  }
 ],
 "metadata": {
  "kernelspec": {
   "display_name": "Python 3",
   "language": "python",
   "name": "python3"
  },
  "language_info": {
   "codemirror_mode": {
    "name": "ipython",
    "version": 2
   },
   "file_extension": ".py",
   "mimetype": "text/x-python",
   "name": "python",
   "nbconvert_exporter": "python",
   "pygments_lexer": "ipython2",
   "version": "2.7.6"
  }
 },
 "nbformat": 4,
 "nbformat_minor": 5
}
